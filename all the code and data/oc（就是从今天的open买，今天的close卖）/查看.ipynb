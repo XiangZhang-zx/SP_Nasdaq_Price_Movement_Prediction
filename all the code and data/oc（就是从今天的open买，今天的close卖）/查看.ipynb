{
 "cells": [
  {
   "cell_type": "code",
   "execution_count": 2,
   "metadata": {},
   "outputs": [
    {
     "name": "stdout",
     "output_type": "stream",
     "text": [
      "Data has been saved to combined_data.xlsx and combined_data.csv\n"
     ]
    }
   ],
   "source": [
    "#!/usr/bin/env python\n",
    "# coding: utf-8\n",
    "\n",
    "import os\n",
    "import pandas as pd\n",
    "import numpy as np\n",
    "from tensorflow.keras.preprocessing.text import Tokenizer\n",
    "from tensorflow.keras.preprocessing.sequence import pad_sequences\n",
    "from tensorflow.keras.models import Sequential\n",
    "from tensorflow.keras.layers import LSTM, Dense\n",
    "from tensorflow.keras.utils import to_categorical\n",
    "\n",
    "from sklearn.preprocessing import LabelEncoder\n",
    "import openpyxl\n",
    "from openpyxl import load_workbook\n",
    "from keras import backend as K\n",
    "import gc\n",
    "import tensorflow as tf\n",
    "\n",
    "\n",
    "file_path_spy = '/usr3/graduate/xz0224/oc（就是从今天的open买，今天的close卖）/spy.csv'\n",
    "file_path_cash = '/usr3/graduate/xz0224/oc（就是从今天的open买，今天的close卖）/cash.csv'\n",
    "\n",
    "# 读取数据\n",
    "data_spy = pd.read_csv(file_path_spy)\n",
    "data_cash = pd.read_csv(file_path_cash)\n",
    "\n",
    "# 确保日期列格式为datetime\n",
    "data_spy['date'] = pd.to_datetime(data_spy['date'])\n",
    "data_cash['date'] = pd.to_datetime(data_cash['date'])\n",
    "\n",
    "# 创建 return_label 列\n",
    "data_spy['return_label'] = data_spy['return'].apply(lambda x: '+' if x > 0 else '-')\n",
    "data_cash['return_label'] = data_cash['return'].apply(lambda x: '+' if x > 0 else '-')\n",
    "\n",
    "# 构建特征\n",
    "def create_label_sequence(data):\n",
    "    sequences = []\n",
    "    for i in range(len(data)):\n",
    "        if i >= 9:  # 确保有足够的数据来创建10天的序列\n",
    "            sequence = ''.join(data['return_label'][i-10:i])\n",
    "            sequences.append(sequence)\n",
    "        else:\n",
    "            sequences.append(None)  # 对于序列开始的部分，填充None\n",
    "    return sequences\n",
    "\n",
    "data_spy['feature'] = create_label_sequence(data_spy)\n",
    "data_cash['feature'] = create_label_sequence(data_cash)\n",
    "\n",
    "# 合并特征和目标变量，只保留spy的特征\n",
    "combined_data = pd.merge(data_spy, data_cash, on='date')\n",
    "combined_data['combined_feature'] = combined_data['feature_x']  # 只使用spy的特征\n",
    "combined_data['target'] = combined_data.apply(lambda row: 'spy' if row['return_x'] > row['return_y'] else 'cash', axis=1)\n",
    "\n",
    "# 选择相关列\n",
    "columns_to_display = ['date', 'target', 'combined_feature', 'return_label_x', 'return_label_y', 'return_x', 'return_y']\n",
    "display_data = combined_data[columns_to_display]\n",
    "\n",
    "# 保存结果到Excel文件\n",
    "output_excel_path = 'combined_data.xlsx'\n",
    "display_data.to_excel(output_excel_path, index=False)\n",
    "\n",
    "# 保存结果到CSV文件\n",
    "output_csv_path = 'combined_data.csv'\n",
    "display_data.to_csv(output_csv_path, index=False)\n",
    "\n",
    "print(\"Data has been saved to\", output_excel_path, \"and\", output_csv_path)\n"
   ]
  }
 ],
 "metadata": {
  "kernelspec": {
   "display_name": "Python 3",
   "language": "python",
   "name": "python3"
  },
  "language_info": {
   "codemirror_mode": {
    "name": "ipython",
    "version": 3
   },
   "file_extension": ".py",
   "mimetype": "text/x-python",
   "name": "python",
   "nbconvert_exporter": "python",
   "pygments_lexer": "ipython3",
   "version": "3.11.9"
  }
 },
 "nbformat": 4,
 "nbformat_minor": 2
}
