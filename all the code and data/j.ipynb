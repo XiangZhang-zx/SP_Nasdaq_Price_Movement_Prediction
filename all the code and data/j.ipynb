{
 "cells": [
  {
   "cell_type": "code",
   "execution_count": null,
   "metadata": {},
   "outputs": [],
   "source": [
    "# 读取Excel文件中的数据路径\n",
    "file_paths = {\n",
    "    'QQ-1Y-CO': '/usr3/graduate/xz0224/co（就是从close买，明天的open卖）/qq/investment_results_final(2006)(train_1years_c-c).xlsx',\n",
    "    'QQ-1Y-CC': '/usr3/graduate/xz0224/normal/investment_results_final(2006)(train_1years_c-c).xlsx',    \n",
    "    'QQ-1Y-OC': '/usr3/graduate/xz0224/oc（就是从今天的open买，今天的close卖）/qq/investment_results_final(2006)(train_1years_c-c).xlsx',\n",
    "    'QQ-6M-CO': '/usr3/graduate/xz0224/co（就是从close买，明天的open卖）/qq/investment_results_final(2006)(train_6months_c-c).xlsx',  \n",
    "    'QQ-6M-CC': '/usr3/graduate/xz0224/normal/investment_results_final(2006)(train_6months_c-c).xlsx',\n",
    "    'QQ-6M-OC': '/usr3/graduate/xz0224/oc（就是从今天的open买，今天的close卖）/qq/investment_results_final(2006)(train_6months_c-c).xlsx',\n",
    "    'QQ-3M-CO': '/usr3/graduate/xz0224/co（就是从close买，明天的open卖）/qq/investment_results_final(2006)(train_3months_c-c).xlsx',  \n",
    "    'QQ-3M-CC': '/usr3/graduate/xz0224/normal/investment_results_final(2006)(train_3months_c-c).xlsx',\n",
    "    'QQ-3M-OC': '/usr3/graduate/xz0224/oc（就是从今天的open买，今天的close卖）/qq/investment_results_final(2006)(train_3months_c-c).xlsx',\n",
    "}"
   ]
  }
 ],
 "metadata": {
  "language_info": {
   "name": "python"
  }
 },
 "nbformat": 4,
 "nbformat_minor": 2
}
